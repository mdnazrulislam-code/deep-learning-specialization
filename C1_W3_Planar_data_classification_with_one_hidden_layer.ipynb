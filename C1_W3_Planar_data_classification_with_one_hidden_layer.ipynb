{
  "nbformat": 4,
  "nbformat_minor": 0,
  "metadata": {
    "colab": {
      "provenance": [],
      "mount_file_id": "1biTwd128PoTjveONmgBQQQoZtDlfiiHh",
      "authorship_tag": "ABX9TyMk0PeDlDe29yR7Pp2+iBhL"
    },
    "kernelspec": {
      "name": "python3",
      "display_name": "Python 3"
    },
    "language_info": {
      "name": "python"
    }
  },
  "cells": [
    {
      "cell_type": "code",
      "execution_count": null,
      "metadata": {
        "id": "uoYEPYZ1Ex1J"
      },
      "outputs": [],
      "source": [
        "# Package imports\n",
        "import numpy as np\n",
        "import copy\n",
        "import matplotlib.pyplot as plt\n",
        "import sklearn\n",
        "import sklearn.datasets\n",
        "import sklearn.linear_model\n",
        "%matplotlib inline\n",
        "\n",
        "%load_ext autoreload\n",
        "%autoreload 2"
      ]
    },
    {
      "cell_type": "code",
      "source": [
        "# unzip data in google drive...\n",
        "!unzip Dataset_Path/planar_dataset.zip -d Dataset_Path/Datasets/"
      ],
      "metadata": {
        "id": "Q4D77Z4xFtdW"
      },
      "execution_count": null,
      "outputs": []
    },
    {
      "cell_type": "code",
      "source": [
        "pip install pyreadr"
      ],
      "metadata": {
        "colab": {
          "base_uri": "https://localhost:8080/"
        },
        "id": "LEm4cBp9Gb8n",
        "outputId": "eccef09a-7276-4e5a-bad0-55e65cdef9d0"
      },
      "execution_count": 98,
      "outputs": [
        {
          "output_type": "stream",
          "name": "stdout",
          "text": [
            "Looking in indexes: https://pypi.org/simple, https://us-python.pkg.dev/colab-wheels/public/simple/\n",
            "Requirement already satisfied: pyreadr in /usr/local/lib/python3.8/dist-packages (0.4.7)\n",
            "Requirement already satisfied: pandas>=1.2.0 in /usr/local/lib/python3.8/dist-packages (from pyreadr) (1.3.5)\n",
            "Requirement already satisfied: numpy>=1.17.3 in /usr/local/lib/python3.8/dist-packages (from pandas>=1.2.0->pyreadr) (1.21.6)\n",
            "Requirement already satisfied: pytz>=2017.3 in /usr/local/lib/python3.8/dist-packages (from pandas>=1.2.0->pyreadr) (2022.6)\n",
            "Requirement already satisfied: python-dateutil>=2.7.3 in /usr/local/lib/python3.8/dist-packages (from pandas>=1.2.0->pyreadr) (2.8.2)\n",
            "Requirement already satisfied: six>=1.5 in /usr/local/lib/python3.8/dist-packages (from python-dateutil>=2.7.3->pandas>=1.2.0->pyreadr) (1.15.0)\n"
          ]
        }
      ]
    },
    {
      "cell_type": "code",
      "source": [
        "#load the dataset\n",
        "import pyreadr\n",
        "result = pyreadr.read_r('Dataset_Path/planar_dataset.rds') # also works for RData\n"
      ],
      "metadata": {
        "id": "Tvu_dvKuGSJh"
      },
      "execution_count": 99,
      "outputs": []
    },
    {
      "cell_type": "code",
      "source": [
        "#split the dataset according to the column\n",
        "df1 = result[None][\"x1\"]\n",
        "df2 = result[None][\"x2\"]\n",
        "df3 = result[None][\"y\"]\n",
        "D = list()\n",
        "for i in range(0,len(df1)):\n",
        "  D.append((df1[i],df2[i]))\n",
        "X = np.array(D) \n",
        "Y = np.array(df3)\n",
        "Y = Y.reshape(Y.shape[0],1)"
      ],
      "metadata": {
        "id": "P1nPV2yWGhn3"
      },
      "execution_count": 100,
      "outputs": []
    },
    {
      "cell_type": "code",
      "source": [
        "# transpose the data\n",
        "X = X.T\n",
        "Y = Y.T\n",
        "print(X.shape)\n",
        "print(Y.shape)"
      ],
      "metadata": {
        "colab": {
          "base_uri": "https://localhost:8080/"
        },
        "id": "zqDubayPHmBQ",
        "outputId": "03af09fe-06f1-41b7-8d0b-19e68e416f8b"
      },
      "execution_count": 101,
      "outputs": [
        {
          "output_type": "stream",
          "name": "stdout",
          "text": [
            "(2, 400)\n",
            "(1, 400)\n"
          ]
        }
      ]
    },
    {
      "cell_type": "code",
      "source": [
        "# GRADED FUNCTION: layer_sizes\n",
        "\n",
        "def layer_sizes(X, Y):\n",
        "    \"\"\"\n",
        "    Arguments:\n",
        "    X -- input dataset of shape (input size, number of examples)\n",
        "    Y -- labels of shape (output size, number of examples)\n",
        "    \n",
        "    Returns:\n",
        "    n_x -- the size of the input layer\n",
        "    n_h -- the size of the hidden layer\n",
        "    n_y -- the size of the output layer\n",
        "    \"\"\"\n",
        "    #(≈ 3 lines of code)\n",
        "    # n_x = ... \n",
        "    # n_h = ...\n",
        "    # n_y = ... \n",
        "    # YOUR CODE STARTS HERE\n",
        "    n_x = X.shape[0]\n",
        "    n_h = 4\n",
        "    n_y = Y.shape[0]\n",
        "    # YOUR CODE ENDS HERE\n",
        "    return (n_x, n_h, n_y)"
      ],
      "metadata": {
        "id": "15jjb-PLNSQI"
      },
      "execution_count": 102,
      "outputs": []
    },
    {
      "cell_type": "code",
      "source": [
        "# GRADED FUNCTION: initialize_parameters\n",
        "\n",
        "def initialize_parameters(n_x, n_h, n_y):\n",
        "    \"\"\"\n",
        "    Argument:\n",
        "    n_x -- size of the input layer\n",
        "    n_h -- size of the hidden layer\n",
        "    n_y -- size of the output layer\n",
        "    Returns:\n",
        "    params -- python dictionary containing your parameters:\n",
        "                    W1 -- weight matrix of shape (n_h, n_x)\n",
        "                    b1 -- bias vector of shape (n_h, 1)\n",
        "                    W2 -- weight matrix of shape (n_y, n_h)\n",
        "                    b2 -- bias vector of shape (n_y, 1)\n",
        "    \"\"\"    \n",
        "    #(≈ 4 lines of code)\n",
        "    # W1 = ...\n",
        "    # b1 = ...\n",
        "    # W2 = ...\n",
        "    # b2 = ...\n",
        "    # YOUR CODE STARTS HERE\n",
        "    W1 = np.random.randn(n_h,n_x) * 0.01\n",
        "    b1 = np.zeros((n_h,1))\n",
        "    W2 = np.random.randn(n_y,n_h) * 0.01\n",
        "    b2 = np.zeros((n_y,1))\n",
        "    # YOUR CODE ENDS HERE\n",
        "    parameters = {\"W1\": W1,\n",
        "                  \"b1\": b1,\n",
        "                  \"W2\": W2,\n",
        "                  \"b2\": b2}\n",
        "    return parameters"
      ],
      "metadata": {
        "id": "Y6_7GL4UR-Ev"
      },
      "execution_count": 103,
      "outputs": []
    },
    {
      "cell_type": "code",
      "source": [
        "def sigmoid(Z):\n",
        "    A = 1/(1+np.exp(-Z))\n",
        "    return A"
      ],
      "metadata": {
        "id": "Y6QVk_dPTHBP"
      },
      "execution_count": 104,
      "outputs": []
    },
    {
      "cell_type": "code",
      "source": [
        "# GRADED FUNCTION:forward_propagation\n",
        "\n",
        "def forward_propagation(X, parameters):\n",
        "    \"\"\"\n",
        "    Argument:\n",
        "    X -- input data of size (n_x, m)\n",
        "    parameters -- python dictionary containing your parameters (output of initialization function)\n",
        "    \n",
        "    Returns:\n",
        "    A2 -- The sigmoid output of the second activation\n",
        "    cache -- a dictionary containing \"Z1\", \"A1\", \"Z2\" and \"A2\"\n",
        "    \"\"\"\n",
        "    # Retrieve each parameter from the dictionary \"parameters\"\n",
        "    #(≈ 4 lines of code)\n",
        "    # W1 = ...\n",
        "    # b1 = ...\n",
        "    # W2 = ...\n",
        "    # b2 = ...\n",
        "    # YOUR CODE STARTS HERE\n",
        "    W1 = parameters[\"W1\"]\n",
        "    b1 = parameters[\"b1\"]\n",
        "    W2 = parameters[\"W2\"]\n",
        "    b2 = parameters[\"b2\"]\n",
        "    # YOUR CODE ENDS HERE\n",
        "    \n",
        "    # Implement Forward Propagation to calculate A2 (probabilities)\n",
        "    # (≈ 4 lines of code)\n",
        "    # Z1 = ...\n",
        "    # A1 = ...\n",
        "    # Z2 = ...\n",
        "    # A2 = ...\n",
        "    # YOUR CODE STARTS HERE\n",
        "    Z1 = np.dot(W1,X)+b1\n",
        "    A1 = np.tanh(Z1)\n",
        "    Z2 = np.dot(W2,A1)+b2\n",
        "    A2 = sigmoid(Z2)\n",
        "    # YOUR CODE ENDS HERE\n",
        "    assert(A2.shape == (1, X.shape[1]))\n",
        "    cache = {\"Z1\": Z1,\n",
        "             \"A1\": A1,\n",
        "             \"Z2\": Z2,\n",
        "             \"A2\": A2}\n",
        "    return A2, cache"
      ],
      "metadata": {
        "id": "c9igvproSEdg"
      },
      "execution_count": 105,
      "outputs": []
    },
    {
      "cell_type": "code",
      "source": [
        "# GRADED FUNCTION: compute_cost\n",
        "\n",
        "def compute_cost(A2, Y):\n",
        "    \"\"\"\n",
        "    Computes the cross-entropy cost given in equation (13)\n",
        "    \n",
        "    Arguments:\n",
        "    A2 -- The sigmoid output of the second activation, of shape (1, number of examples)\n",
        "    Y -- \"true\" labels vector of shape (1, number of examples)\n",
        "\n",
        "    Returns:\n",
        "    cost -- cross-entropy cost given equation (13)\n",
        "    \n",
        "    \"\"\"\n",
        "    m = Y.shape[1] # number of examples\n",
        "    # Compute the cross-entropy cost\n",
        "    # (≈ 2 lines of code)\n",
        "    # logprobs = ...\n",
        "    # cost = ...\n",
        "    # YOUR CODE STARTS HERE\n",
        "    logprobs = np.multiply(np.log(A2),Y)+ np.multiply((1-Y),np.log(1-A2))\n",
        "    cost = (-1/m)*np.sum(logprobs)   \n",
        "    # YOUR CODE ENDS HERE\n",
        "    \n",
        "    cost = float(np.squeeze(cost))  # makes sure cost is the dimension we expect. \n",
        "                                    # E.g., turns [[17]] into 17 \n",
        "    return cost"
      ],
      "metadata": {
        "id": "FgPDReCCTtw4"
      },
      "execution_count": 106,
      "outputs": []
    },
    {
      "cell_type": "code",
      "source": [
        "# GRADED FUNCTION: backward_propagation\n",
        "\n",
        "def backward_propagation(parameters, cache, X, Y):\n",
        "    \"\"\"\n",
        "    Implement the backward propagation using the instructions above.\n",
        "    \n",
        "    Arguments:\n",
        "    parameters -- python dictionary containing our parameters \n",
        "    cache -- a dictionary containing \"Z1\", \"A1\", \"Z2\" and \"A2\".\n",
        "    X -- input data of shape (2, number of examples)\n",
        "    Y -- \"true\" labels vector of shape (1, number of examples)\n",
        "    \n",
        "    Returns:\n",
        "    grads -- python dictionary containing your gradients with respect to different parameters\n",
        "    \"\"\"\n",
        "    m = X.shape[1]\n",
        "    \n",
        "    # First, retrieve W1 and W2 from the dictionary \"parameters\".\n",
        "    #(≈ 2 lines of code)\n",
        "    # W1 = ...\n",
        "    # W2 = ...\n",
        "    # YOUR CODE STARTS HERE\n",
        "    W1 = parameters[\"W1\"]\n",
        "    b1 = parameters[\"b1\"]\n",
        "    W2 = parameters[\"W2\"]\n",
        "    b2 = parameters[\"b2\"]\n",
        "    # YOUR CODE ENDS HERE\n",
        "        \n",
        "    # Retrieve also A1 and A2 from dictionary \"cache\".\n",
        "    #(≈ 2 lines of code)\n",
        "    # A1 = ...\n",
        "    # A2 = ...\n",
        "    # YOUR CODE STARTS HERE\n",
        "    A1 = cache[\"A1\"]\n",
        "    Z1 = cache[\"Z1\"]\n",
        "    A2 = cache[\"A2\"]\n",
        "    Z2 = cache[\"Z2\"]\n",
        "    # YOUR CODE ENDS HERE\n",
        "    \n",
        "    # Backward propagation: calculate dW1, db1, dW2, db2. \n",
        "    #(≈ 6 lines of code, corresponding to 6 equations on slide above)\n",
        "    # dZ2 = ...\n",
        "    # dW2 = ...\n",
        "    # db2 = ...\n",
        "    # dZ1 = ...\n",
        "    # dW1 = ...\n",
        "    # db1 = ...\n",
        "    # YOUR CODE STARTS HERE\n",
        "    dZ2 = A2 - Y\n",
        "    dW2 = (1/m)*np.dot(dZ2,A1.T)\n",
        "    db2 = (1/m)*np.sum(dZ2,axis=1,keepdims=True)\n",
        "    dZ1 = np.dot(W2.T,dZ2)*(1 - np.power(A1, 2))\n",
        "    dW1 = (1/m)*np.dot(dZ1,X.T)\n",
        "    db1 = (1/m)*np.sum(dZ1,axis=1,keepdims=True)\n",
        "    # YOUR CODE ENDS HERE\n",
        "    \n",
        "    grads = {\"dW1\": dW1,\n",
        "             \"db1\": db1,\n",
        "             \"dW2\": dW2,\n",
        "             \"db2\": db2}\n",
        "    return grads"
      ],
      "metadata": {
        "id": "uUjF-l0aUyfn"
      },
      "execution_count": 107,
      "outputs": []
    },
    {
      "cell_type": "code",
      "source": [
        "# GRADED FUNCTION: update_parameters\n",
        "\n",
        "def update_parameters(parameters, grads, learning_rate = 1.2):\n",
        "    \"\"\"\n",
        "    Updates parameters using the gradient descent update rule given above\n",
        "    \n",
        "    Arguments:\n",
        "    parameters -- python dictionary containing your parameters \n",
        "    grads -- python dictionary containing your gradients \n",
        "    \n",
        "    Returns:\n",
        "    parameters -- python dictionary containing your updated parameters \n",
        "    \"\"\"\n",
        "    # Retrieve a copy of each parameter from the dictionary \"parameters\". Use copy.deepcopy(...) for W1 and W2\n",
        "    #(≈ 4 lines of code)\n",
        "    # W1 = ...\n",
        "    # b1 = ...\n",
        "    # W2 = ...\n",
        "    # b2 = ...\n",
        "    # YOUR CODE STARTS HERE\n",
        "    W1 = parameters[\"W1\"]\n",
        "    b1 = parameters[\"b1\"]\n",
        "    W2 = parameters[\"W2\"]\n",
        "    b2 = parameters[\"b2\"]\n",
        "    # YOUR CODE ENDS HERE\n",
        "    \n",
        "    # Retrieve each gradient from the dictionary \"grads\"\n",
        "    #(≈ 4 lines of code)\n",
        "    # dW1 = ...\n",
        "    # db1 = ...\n",
        "    # dW2 = ...\n",
        "    # db2 = ...\n",
        "    # YOUR CODE STARTS HERE\n",
        "    dW1 = grads[\"dW1\"]\n",
        "    db1 = grads[\"db1\"]\n",
        "    dW2 = grads[\"dW2\"]\n",
        "    db2 = grads[\"db2\"]\n",
        "    # YOUR CODE ENDS HERE\n",
        "    \n",
        "    # Update rule for each parameter\n",
        "    #(≈ 4 lines of code)\n",
        "    # W1 = ...\n",
        "    # b1 = ...\n",
        "    # W2 = ...\n",
        "    # b2 = ...\n",
        "    # YOUR CODE STARTS HERE\n",
        "    W1 = W1-learning_rate*dW1\n",
        "    b1 = b1-learning_rate*db1\n",
        "    W2 = W2-learning_rate*dW2\n",
        "    b2 = b2-learning_rate*db2\n",
        "    # YOUR CODE ENDS HERE\n",
        "    \n",
        "    parameters = {\"W1\": W1,\n",
        "                  \"b1\": b1,\n",
        "                  \"W2\": W2,\n",
        "                  \"b2\": b2}\n",
        "    return parameters"
      ],
      "metadata": {
        "id": "9PxZNocxUzg3"
      },
      "execution_count": 108,
      "outputs": []
    },
    {
      "cell_type": "code",
      "source": [
        "# GRADED FUNCTION: nn_model\n",
        "\n",
        "def nn_model(X, Y, n_h, num_iterations = 10000, print_cost=False):\n",
        "    \"\"\"\n",
        "    Arguments:\n",
        "    X -- dataset of shape (2, number of examples)\n",
        "    Y -- labels of shape (1, number of examples)\n",
        "    n_h -- size of the hidden layer\n",
        "    num_iterations -- Number of iterations in gradient descent loop\n",
        "    print_cost -- if True, print the cost every 1000 iterations\n",
        "    \n",
        "    Returns:\n",
        "    parameters -- parameters learnt by the model. They can then be used to predict.\n",
        "    \"\"\"\n",
        "    \n",
        "    np.random.seed(3)\n",
        "    n_x = layer_sizes(X, Y)[0]\n",
        "    n_y = layer_sizes(X, Y)[2]\n",
        "    \n",
        "    # Initialize parameters\n",
        "    #(≈ 1 line of code)\n",
        "    # parameters = ...\n",
        "    # YOUR CODE STARTS HERE\n",
        "    parameters = initialize_parameters(n_x,n_h,n_y)\n",
        "    W1 = parameters[\"W1\"]\n",
        "    b1 = parameters[\"b1\"]\n",
        "    W2 = parameters[\"W2\"]\n",
        "    b2 = parameters[\"b2\"]\n",
        "    # YOUR CODE ENDS HERE\n",
        "    \n",
        "    # Loop (gradient descent)\n",
        "\n",
        "    for i in range(0, num_iterations):\n",
        "         \n",
        "        #(≈ 4 lines of code)\n",
        "        # Forward propagation. Inputs: \"X, parameters\". Outputs: \"A2, cache\".\n",
        "        # A2, cache = ...\n",
        "        A2, cache = forward_propagation(X, parameters)\n",
        "        # Cost function. Inputs: \"A2, Y\". Outputs: \"cost\".\n",
        "        # cost = ...\n",
        "        cost = compute_cost(A2, Y)\n",
        "        # Backpropagation. Inputs: \"parameters, cache, X, Y\". Outputs: \"grads\".\n",
        "        # grads = ...\n",
        "        grads = backward_propagation(parameters, cache, X, Y)\n",
        "        # Gradient descent parameter update. Inputs: \"parameters, grads\". Outputs: \"parameters\".\n",
        "        # parameters = ...\n",
        "        parameters = update_parameters(parameters, grads, learning_rate=1.2)\n",
        "        # YOUR CODE STARTS HERE\n",
        "        \n",
        "        \n",
        "        # YOUR CODE ENDS HERE\n",
        "        \n",
        "        # Print the cost every 1000 iterations\n",
        "        if print_cost and i % 1000 == 0:\n",
        "            print (\"Cost after iteration %i: %f\" %(i, cost))\n",
        "    return parameters"
      ],
      "metadata": {
        "id": "zospEccbVQ1N"
      },
      "execution_count": 109,
      "outputs": []
    },
    {
      "cell_type": "code",
      "source": [
        "# Build a model with a n_h-dimensional hidden layer\n",
        "parameters = nn_model(X, Y, n_h = 4, num_iterations = 20000, print_cost=True)\n",
        "\n",
        "# Plot the decision boundary"
      ],
      "metadata": {
        "colab": {
          "base_uri": "https://localhost:8080/"
        },
        "id": "1XHhc-nHVxSY",
        "outputId": "f373c4c7-39d9-4106-fd65-91433fc705e1"
      },
      "execution_count": 110,
      "outputs": [
        {
          "output_type": "stream",
          "name": "stdout",
          "text": [
            "Cost after iteration 0: 0.693165\n",
            "Cost after iteration 1000: 0.241590\n",
            "Cost after iteration 2000: 0.228501\n",
            "Cost after iteration 3000: 0.223446\n",
            "Cost after iteration 4000: 0.220356\n",
            "Cost after iteration 5000: 0.218124\n",
            "Cost after iteration 6000: 0.216372\n",
            "Cost after iteration 7000: 0.214926\n",
            "Cost after iteration 8000: 0.214053\n",
            "Cost after iteration 9000: 0.212706\n",
            "Cost after iteration 10000: 0.211737\n",
            "Cost after iteration 11000: 0.210856\n",
            "Cost after iteration 12000: 0.210046\n",
            "Cost after iteration 13000: 0.209297\n",
            "Cost after iteration 14000: 0.208601\n",
            "Cost after iteration 15000: 0.207951\n",
            "Cost after iteration 16000: 0.207344\n",
            "Cost after iteration 17000: 0.206775\n",
            "Cost after iteration 18000: 0.206242\n",
            "Cost after iteration 19000: 0.205740\n"
          ]
        }
      ]
    },
    {
      "cell_type": "code",
      "source": [
        "# GRADED FUNCTION: predict\n",
        "\n",
        "def predict(parameters, X):\n",
        "    \"\"\"\n",
        "    Using the learned parameters, predicts a class for each example in X\n",
        "    \n",
        "    Arguments:\n",
        "    parameters -- python dictionary containing your parameters \n",
        "    X -- input data of size (n_x, m)\n",
        "    \n",
        "    Returns\n",
        "    predictions -- vector of predictions of our model (red: 0 / blue: 1)\n",
        "    \"\"\"\n",
        "    \n",
        "    # Computes probabilities using forward propagation, and classifies to 0/1 using 0.5 as the threshold.\n",
        "    #(≈ 2 lines of code)\n",
        "    # A2, cache = ...\n",
        "    # predictions = ...\n",
        "    # YOUR CODE STARTS HERE\n",
        "    A2, cache = forward_propagation(X, parameters)\n",
        "    predictions = (A2 > 0.5)\n",
        "    # YOUR CODE ENDS HERE\n",
        "    return predictions"
      ],
      "metadata": {
        "id": "Z-rZMIlXWihu"
      },
      "execution_count": 111,
      "outputs": []
    },
    {
      "cell_type": "code",
      "source": [
        "# Print accuracy\n",
        "predictions = predict(parameters, X)\n",
        "print ('Accuracy: %d' % float((np.dot(Y, predictions.T) + np.dot(1 - Y, 1 - predictions.T)) / float(Y.size) * 100) + '%')"
      ],
      "metadata": {
        "colab": {
          "base_uri": "https://localhost:8080/"
        },
        "id": "QLYEv9UzXAmX",
        "outputId": "1841026b-1473-4f29-dce2-42c926a397eb"
      },
      "execution_count": 112,
      "outputs": [
        {
          "output_type": "stream",
          "name": "stdout",
          "text": [
            "Accuracy: 91%\n"
          ]
        }
      ]
    },
    {
      "cell_type": "code",
      "source": [
        "predicted = predictions.reshape(400)\n",
        "actual = Y.reshape(400)"
      ],
      "metadata": {
        "id": "QddS2dWdbLJ_"
      },
      "execution_count": 124,
      "outputs": []
    },
    {
      "cell_type": "code",
      "source": [
        "import tensorflow as tf\n",
        "from tensorflow import keras\n",
        "import matplotlib.pyplot as plt\n",
        "cm = tf.math.confusion_matrix(labels=actual,predictions=predicted)\n",
        "import seaborn as sn\n",
        "plt.figure(figsize = (10,7))\n",
        "sn.heatmap(cm, annot=True, fmt='d')\n",
        "plt.xlabel('Predicted')\n",
        "plt.ylabel('Truth')"
      ],
      "metadata": {
        "colab": {
          "base_uri": "https://localhost:8080/",
          "height": 459
        },
        "id": "mmzHIKu4baWY",
        "outputId": "640eded4-e907-4dd3-be8f-de506b4cf993"
      },
      "execution_count": 125,
      "outputs": [
        {
          "output_type": "execute_result",
          "data": {
            "text/plain": [
              "Text(69.0, 0.5, 'Truth')"
            ]
          },
          "metadata": {},
          "execution_count": 125
        },
        {
          "output_type": "display_data",
          "data": {
            "text/plain": [
              "<Figure size 720x504 with 2 Axes>"
            ],
            "image/png": "[encoded data removed]"
          },
          "metadata": {
            "needs_background": "light"
          }
        }
      ]
    }
  ]
}