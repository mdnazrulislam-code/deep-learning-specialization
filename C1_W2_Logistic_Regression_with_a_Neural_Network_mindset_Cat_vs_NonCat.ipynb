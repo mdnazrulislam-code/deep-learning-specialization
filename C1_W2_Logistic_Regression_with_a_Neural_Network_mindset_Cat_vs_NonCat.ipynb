{
  "nbformat": 4,
  "nbformat_minor": 0,
  "metadata": {
    "colab": {
      "provenance": [],
      "mount_file_id": "1zOMkSm2j1CVpXsZ5WVh1Bfnbv1eDiQEb",
      "authorship_tag": "ABX9TyN/r8Zn5xKPFt59198irj0Y"
    },
    "kernelspec": {
      "name": "python3",
      "display_name": "Python 3"
    },
    "language_info": {
      "name": "python"
    }
  },
  "cells": [
    {
      "cell_type": "code",
      "execution_count": null,
      "metadata": {
        "id": "jQoAeLNG9Q-q"
      },
      "outputs": [],
      "source": [
        "import numpy as np\n",
        "import copy\n",
        "import matplotlib.pyplot as plt\n",
        "import h5py\n",
        "import scipy\n",
        "from PIL import Image\n",
        "from scipy import ndimage\n",
        "import torch.nn as nn\n",
        "\n",
        "%matplotlib inline\n",
        "%load_ext autoreload\n",
        "%autoreload 2"
      ]
    },
    {
      "cell_type": "code",
      "source": [
        "def load_dataset():\n",
        "    train_dataset = h5py.File('Dataset_Path/train_catvnoncat.h5', \"r\")\n",
        "    train_set_x_orig = np.array(train_dataset[\"train_set_x\"][:]) # your train set features\n",
        "    train_set_y_orig = np.array(train_dataset[\"train_set_y\"][:]) # your train set labels\n",
        "\n",
        "    test_dataset = h5py.File('Dataset_Path/test_catvnoncat.h5', \"r\")\n",
        "    test_set_x_orig = np.array(test_dataset[\"test_set_x\"][:]) # your test set features\n",
        "    test_set_y_orig = np.array(test_dataset[\"test_set_y\"][:]) # your test set labels\n",
        "\n",
        "    classes = np.array(test_dataset[\"list_classes\"][:]) # the list of classes\n",
        "    \n",
        "    train_set_y_orig = train_set_y_orig.reshape((1, train_set_y_orig.shape[0]))\n",
        "    test_set_y_orig = test_set_y_orig.reshape((1, test_set_y_orig.shape[0]))\n",
        "    \n",
        "    return train_set_x_orig, train_set_y_orig, test_set_x_orig, test_set_y_orig, classes"
      ],
      "metadata": {
        "id": "ZyGvOvdL9WfG"
      },
      "execution_count": 10,
      "outputs": []
    },
    {
      "cell_type": "code",
      "source": [
        "#load the datasets\n",
        "train_set_x_orig, train_set_y, test_set_x_orig, test_set_y, classes = load_dataset()"
      ],
      "metadata": {
        "id": "MtdQyVAr9YVm"
      },
      "execution_count": 11,
      "outputs": []
    },
    {
      "cell_type": "code",
      "source": [
        "#flatten the images of datasets\n",
        "train_set_x_flatten = train_set_x_orig.reshape(train_set_x_orig.shape[0],-1).T\n",
        "test_set_x_flatten =  test_set_x_orig.reshape(test_set_x_orig.shape[0],-1).T"
      ],
      "metadata": {
        "id": "iA9EJnDs9ZYm"
      },
      "execution_count": 12,
      "outputs": []
    },
    {
      "cell_type": "code",
      "source": [
        "#normalize the datasets\n",
        "train_set_x = train_set_x_flatten / 255.\n",
        "test_set_x = test_set_x_flatten / 255."
      ],
      "metadata": {
        "id": "ogTvOjW89and"
      },
      "execution_count": 13,
      "outputs": []
    },
    {
      "cell_type": "code",
      "source": [
        "#sigmoid is used as activation function\n",
        "def sigmoid(Z):\n",
        "    A = 1/(1+np.exp(-Z))\n",
        "    return A"
      ],
      "metadata": {
        "id": "XblXv0xW9cHu"
      },
      "execution_count": 14,
      "outputs": []
    },
    {
      "cell_type": "code",
      "source": [
        "#initialize the parameter w and b with zeros\n",
        "#these parameter will update with every iterations\n",
        "def initialize_with_zeros(dim):\n",
        "  w = np.zeros((dim,1))\n",
        "  b = 0.0\n",
        "  return w, b  "
      ],
      "metadata": {
        "id": "y4R3sHy19dU3"
      },
      "execution_count": 15,
      "outputs": []
    },
    {
      "cell_type": "code",
      "source": [
        "#forward and backward propagation\n",
        "def propagate(w, b, X, Y):\n",
        "  m = X.shape[1]\n",
        "  Z = (np.dot(w.T,X)+b)\n",
        "  A = sigmoid(Z)\n",
        "  cost = np.sum((-Y*np.log(A))+(-(1-Y)*np.log(1-A)))/m\n",
        "  dZ = A-Y\n",
        "  dw = (np.dot(X,dZ.T))/m\n",
        "  db = (np.sum(dZ))/m\n",
        "  cost = np.squeeze(np.array(cost))\n",
        "  grads = {\"dw\": dw,\"db\": db}\n",
        "  return grads, cost"
      ],
      "metadata": {
        "id": "le1YQf7U9efm"
      },
      "execution_count": 16,
      "outputs": []
    },
    {
      "cell_type": "code",
      "source": [
        "#optimize the model\n",
        "def optimize(w, b, X, Y, num_iterations=100, learning_rate=0.009, print_cost=False):\n",
        "  w = copy.deepcopy(w)\n",
        "  b = copy.deepcopy(b)\n",
        "  costs = []\n",
        "  for i in range(num_iterations):\n",
        "    grads, cost = propagate(w, b, X, Y)\n",
        "    dw = grads[\"dw\"]\n",
        "    db = grads[\"db\"]\n",
        "    w = w - learning_rate*dw\n",
        "    b = b - learning_rate*db\n",
        "    if i % 500 == 0:\n",
        "      costs.append(cost)\n",
        "      if print_cost:\n",
        "        print (\"Cost after iteration %i: %f\" %(i, cost))\n",
        "  params = {\"w\": w,\"b\": b}   \n",
        "  grads = {\"dw\": dw,\"db\": db}     \n",
        "  return params, grads, costs\n"
      ],
      "metadata": {
        "id": "16xlFGNK9gd2"
      },
      "execution_count": 17,
      "outputs": []
    },
    {
      "cell_type": "code",
      "source": [
        "#predict the model's output as how much it accurately predict \n",
        "def predict(w, b, X):\n",
        "  m = X.shape[1]\n",
        "  Y_prediction = np.zeros((1, m))\n",
        "  w = w.reshape(X.shape[0], 1)\n",
        "  A = sigmoid(np.dot(w.T,X)+b)\n",
        "  Y_prediction = (A>=0.5)*1.0\n",
        "  return Y_prediction\n"
      ],
      "metadata": {
        "id": "0fhDgKdG9jEl"
      },
      "execution_count": 18,
      "outputs": []
    },
    {
      "cell_type": "code",
      "source": [
        "#total model\n",
        "def model(X_train, Y_train, X_test, Y_test, num_iterations=2000, learning_rate=0.5, print_cost=False):\n",
        "  w,b = initialize_with_zeros(X_train.shape[0])\n",
        "  params, grads, costs = optimize(w, b, X_train, Y_train, num_iterations, learning_rate, print_cost)\n",
        "  w = params[\"w\"]\n",
        "  b = params[\"b\"]\n",
        "  Y_prediction_test = predict(w,b,X_test)\n",
        "  Y_prediction_train = predict(w,b,X_train)\n",
        "  if print_cost:\n",
        "    print(\"train accuracy: {} %\".format(100 - np.mean(np.abs(Y_prediction_train - Y_train)) * 100))\n",
        "    print(\"test accuracy: {} %\".format(100 - np.mean(np.abs(Y_prediction_test - Y_test)) * 100))\n",
        "  d = {\"costs\": costs,\"Y_prediction_test\": Y_prediction_test, \"Y_prediction_train\" : Y_prediction_train, \"w\" : w, \"b\" : b,\"learning_rate\" : learning_rate,\"num_iterations\": num_iterations}\n",
        "  return d  "
      ],
      "metadata": {
        "id": "bSQqtY8s9k01"
      },
      "execution_count": 19,
      "outputs": []
    },
    {
      "cell_type": "code",
      "source": [
        "# train and test the model\n",
        "logistic_regression_model = model(train_set_x, train_set_y, test_set_x, test_set_y, num_iterations=5000, learning_rate=0.005, print_cost=True)"
      ],
      "metadata": {
        "colab": {
          "base_uri": "https://localhost:8080/"
        },
        "id": "cT6GVOaH9mV1",
        "outputId": "db414e63-75dc-4866-b7ab-948d31c734cd"
      },
      "execution_count": 20,
      "outputs": [
        {
          "output_type": "stream",
          "name": "stdout",
          "text": [
            "Cost after iteration 0: 0.693147\n",
            "Cost after iteration 500: 0.303273\n",
            "Cost after iteration 1000: 0.214820\n",
            "Cost after iteration 1500: 0.166521\n",
            "Cost after iteration 2000: 0.135608\n",
            "Cost after iteration 2500: 0.114093\n",
            "Cost after iteration 3000: 0.098280\n",
            "Cost after iteration 3500: 0.086190\n",
            "Cost after iteration 4000: 0.076662\n",
            "Cost after iteration 4500: 0.068968\n",
            "train accuracy: 100.0 %\n",
            "test accuracy: 70.0 %\n"
          ]
        }
      ]
    },
    {
      "cell_type": "code",
      "source": [
        "# Example of a picture that was wrongly classified.\n",
        "num_px = 64\n",
        "index = 5\n",
        "plt.imshow(test_set_x[:, index].reshape((num_px, num_px, 3)))\n",
        "print (\"y = \" + str(test_set_y[0,index]) + \", you predicted that it is a \\\"\" + classes[int(logistic_regression_model['Y_prediction_test'][0,index])].decode(\"utf-8\") +  \"\\\" picture.\")"
      ],
      "metadata": {
        "colab": {
          "base_uri": "https://localhost:8080/",
          "height": 285
        },
        "id": "2N4UTuJ29prl",
        "outputId": "b3896449-d5e2-4058-a828-825098e25d4f"
      },
      "execution_count": 21,
      "outputs": [
        {
          "output_type": "stream",
          "name": "stdout",
          "text": [
            "y = 0, you predicted that it is a \"cat\" picture.\n"
          ]
        },
        {
          "output_type": "display_data",
          "data": {
            "text/plain": [
              "<Figure size 432x288 with 1 Axes>"
            ],
            "image/png": "[encoded data removed]"
          },
          "metadata": {
            "needs_background": "light"
          }
        }
      ]
    },
    {
      "cell_type": "code",
      "source": [
        "# reshape the output for generating the confusion matrix\n",
        "predicted = (logistic_regression_model[\"Y_prediction_test\"]).reshape(50)\n",
        "actual = test_set_y.reshape(50)"
      ],
      "metadata": {
        "id": "4wu13pQS9rQt"
      },
      "execution_count": 22,
      "outputs": []
    },
    {
      "cell_type": "code",
      "source": [
        "#confusion matrix\n",
        "import tensorflow as tf\n",
        "from tensorflow import keras\n",
        "import matplotlib.pyplot as plt\n",
        "cm = tf.math.confusion_matrix(labels=actual,predictions=predicted)\n",
        "import seaborn as sn\n",
        "plt.figure(figsize = (10,7))\n",
        "print(\"Confusion Matrix\")\n",
        "sn.heatmap(cm, annot=True, fmt='d')\n",
        "plt.xlabel('Predicted')\n",
        "plt.ylabel('Truth')"
      ],
      "metadata": {
        "colab": {
          "base_uri": "https://localhost:8080/",
          "height": 481
        },
        "id": "oKAFCnV69sq1",
        "outputId": "546e34fb-6671-46ff-bcbb-335dcbf7a154"
      },
      "execution_count": 23,
      "outputs": [
        {
          "output_type": "stream",
          "name": "stdout",
          "text": [
            "Confusion Matrix\n"
          ]
        },
        {
          "output_type": "execute_result",
          "data": {
            "text/plain": [
              "Text(69.0, 0.5, 'Truth')"
            ]
          },
          "metadata": {},
          "execution_count": 23
        },
        {
          "output_type": "display_data",
          "data": {
            "text/plain": [
              "<Figure size 720x504 with 2 Axes>"
            ],
            "image/png": "[encoded data removed]"
          },
          "metadata": {
            "needs_background": "light"
          }
        }
      ]
    },
    {
      "cell_type": "code",
      "source": [
        "# Improvement\n",
        "costs = np.squeeze(logistic_regression_model['costs'])\n",
        "plt.plot(costs)\n",
        "plt.ylabel('cost')\n",
        "plt.xlabel('iterations (per hundreds)')\n",
        "plt.title(\"Learning rate =\" + str(logistic_regression_model[\"learning_rate\"]))\n",
        "plt.show()"
      ],
      "metadata": {
        "colab": {
          "base_uri": "https://localhost:8080/",
          "height": 295
        },
        "id": "TZfA-5x89uCW",
        "outputId": "ba59cf90-b88e-4a28-c1d4-a931a75df0ac"
      },
      "execution_count": 24,
      "outputs": [
        {
          "output_type": "display_data",
          "data": {
            "text/plain": [
              "<Figure size 432x288 with 1 Axes>"
            ],
            "image/png": "[encoded data removed]"
          },
          "metadata": {
            "needs_background": "light"
          }
        }
      ]
    }
  ]
}
